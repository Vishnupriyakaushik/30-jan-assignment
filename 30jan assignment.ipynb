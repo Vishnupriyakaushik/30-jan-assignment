{
 "cells": [
  {
   "cell_type": "code",
   "execution_count": null,
   "id": "3b7b7747-404e-4b8f-9665-7745137bcb0d",
   "metadata": {},
   "outputs": [],
   "source": [
    "Ques.1 write a program to accept percentge from the user and display the grade according to the following criteria:"
   ]
  },
  {
   "cell_type": "code",
   "execution_count": 3,
   "id": "ff938adc-7919-4a93-935d-b78275d2089d",
   "metadata": {},
   "outputs": [
    {
     "name": "stdin",
     "output_type": "stream",
     "text": [
      "Enter your percentage:  87\n"
     ]
    },
    {
     "name": "stdout",
     "output_type": "stream",
     "text": [
      "Your grade is B\n"
     ]
    }
   ],
   "source": [
    "  percentage = float(input(\"Enter your percentage: \"))\n",
    "\n",
    "if percentage >= 90:\n",
    "    print(\"Your grade is A\")\n",
    "elif percentage >= 80:\n",
    "    print(\"Your grade is B\")\n",
    "elif percentage >= 70:\n",
    "    print(\"Your grade is C\")\n",
    "elif percentage >= 60:\n",
    "    print(\"Your grade is D\")\n",
    "else:\n",
    "    print(\"Your grade is F\")\n"
   ]
  },
  {
   "cell_type": "code",
   "execution_count": null,
   "id": "5ae33c6b-25e6-4907-a1c1-a229d9a771e8",
   "metadata": {},
   "outputs": [],
   "source": [
    "Ques.02 write a program to accept the cost price of a bike and display the road tax to be paid according to the following criteria:"
   ]
  },
  {
   "cell_type": "code",
   "execution_count": 4,
   "id": "9e9d0ffa-e241-407b-aee7-6147e67fdd2e",
   "metadata": {},
   "outputs": [
    {
     "name": "stdin",
     "output_type": "stream",
     "text": [
      "Enter the cost price of the bike:  75000\n"
     ]
    },
    {
     "name": "stdout",
     "output_type": "stream",
     "text": [
      "The road tax to be paid is: 6000.0\n"
     ]
    }
   ],
   "source": [
    " cost_price = float(input(\"Enter the cost price of the bike: \"))\n",
    "\n",
    "if cost_price <= 50000:\n",
    "    road_tax = cost_price * 0.05\n",
    "elif cost_price <= 100000:\n",
    "    road_tax = cost_price * 0.08\n",
    "elif cost_price <= 150000:\n",
    "    road_tax = cost_price * 0.10\n",
    "else:\n",
    "    road_tax = cost_price * 0.12\n",
    "\n",
    "print(\"The road tax to be paid is:\", road_tax)"
   ]
  },
  {
   "cell_type": "code",
   "execution_count": null,
   "id": "6b9a7545-2f55-4ebf-964b-25ca2de6a1ce",
   "metadata": {},
   "outputs": [],
   "source": [
    "Ques. 03 write a python program accept any city  from the user and display monuments of that city ."
   ]
  },
  {
   "cell_type": "code",
   "execution_count": 6,
   "id": "3c900e29-f4d9-4db5-97a6-2ae4b46fe3c6",
   "metadata": {},
   "outputs": [
    {
     "name": "stdin",
     "output_type": "stream",
     "text": [
      "Enter a city name:  Agra\n"
     ]
    },
    {
     "name": "stdout",
     "output_type": "stream",
     "text": [
      "Famous monuments in Agra are:\n",
      "Taj Mahal\n"
     ]
    }
   ],
   "source": [
    "monuments = {\n",
    "    \"Delhi\": [\"Red Fort\"],\n",
    "    \"Agra\": [\"Taj Mahal\"],\n",
    "    \"Jaipur\":[\"Jal Mahal\"]\n",
    "}\n",
    "\n",
    "city = input(\"Enter a city name: \")\n",
    "\n",
    "if city in monuments:\n",
    "    print(\"Famous monuments in\", city, \"are:\")\n",
    "    for monument in monuments[city]:\n",
    "        print(monument)\n",
    "else:\n",
    "    print(\"Sorry, we do not have information about monuments in\", city)"
   ]
  },
  {
   "cell_type": "code",
   "execution_count": null,
   "id": "02402ae5-b547-4015-9fb2-be29703353ba",
   "metadata": {},
   "outputs": [],
   "source": [
    "Ques.04 write a python program to check how many times a given number can be divided by 3 before it is less than or equal to 10."
   ]
  },
  {
   "cell_type": "code",
   "execution_count": 7,
   "id": "592da1ec-106d-45db-a60d-b8588668988f",
   "metadata": {},
   "outputs": [
    {
     "name": "stdin",
     "output_type": "stream",
     "text": [
      "Enter a number:  7\n"
     ]
    },
    {
     "name": "stdout",
     "output_type": "stream",
     "text": [
      "The number can be divided by 3 0 times before it becomes less than or equal to 10.\n"
     ]
    }
   ],
   "source": [
    "num = int(input(\"Enter a number: \"))\n",
    "count = 0\n",
    "\n",
    "while num > 10:\n",
    "    num = num // 3\n",
    "    count += 1\n",
    "\n",
    "print(\"The number can be divided by 3\", count, \"times before it becomes less than or equal to 10.\")"
   ]
  },
  {
   "cell_type": "code",
   "execution_count": null,
   "id": "5317442a-c3bb-462b-80a9-cbe7bb7be5e7",
   "metadata": {},
   "outputs": [],
   "source": [
    "Ques.05 why and when to use while loop in python give a detailed description with example. "
   ]
  },
  {
   "cell_type": "code",
   "execution_count": null,
   "id": "3461471d-b67b-44ac-b79e-f856e79e0fe6",
   "metadata": {},
   "outputs": [],
   "source": [
    "A while loop in Python is a control flow statement that allows us to repeatedly execute a block of code as long as a certain condition is true.\n",
    "It is used when we want to perform an action repeatedly until a specific condition is met, \n",
    "or until a user interrupts the loop using a break statement."
   ]
  },
  {
   "cell_type": "code",
   "execution_count": 8,
   "id": "f630128a-f920-4fc5-b71a-b6fdb3fb520b",
   "metadata": {},
   "outputs": [
    {
     "name": "stdout",
     "output_type": "stream",
     "text": [
      "1\n",
      "2\n",
      "3\n",
      "4\n",
      "5\n",
      "6\n",
      "7\n",
      "8\n",
      "9\n",
      "10\n"
     ]
    }
   ],
   "source": [
    "# Example: Print numbers from 1 to 10 using a while loop\n",
    "\n",
    "num = 1\n",
    "while num <= 10:\n",
    "    print(num)\n",
    "    num += 1"
   ]
  },
  {
   "cell_type": "code",
   "execution_count": null,
   "id": "ef4689f2-0fd7-4d53-bae8-127e2aee9e62",
   "metadata": {},
   "outputs": [],
   "source": [
    "Ques.06 Use nested while loop to print 3 different pattern."
   ]
  },
  {
   "cell_type": "code",
   "execution_count": 9,
   "id": "9320ca7a-0e5a-4bfa-ac0f-35c2f8728d1d",
   "metadata": {},
   "outputs": [
    {
     "name": "stdout",
     "output_type": "stream",
     "text": [
      "*\n",
      "**\n",
      "***\n",
      "****\n",
      "*****\n"
     ]
    }
   ],
   "source": [
    "# Example: Print a right triangle of asterisks using nested while loops\n",
    "\n",
    "i = 1\n",
    "while i <= 5:\n",
    "    j = 1\n",
    "    while j <= i:\n",
    "        print(\"*\", end=\"\")\n",
    "        j += 1\n",
    "    print(\"\")\n",
    "    i += 1"
   ]
  },
  {
   "cell_type": "code",
   "execution_count": 10,
   "id": "4877755d-4a8b-4e09-b10e-037760d4789f",
   "metadata": {},
   "outputs": [
    {
     "name": "stdout",
     "output_type": "stream",
     "text": [
      "*****\n",
      "*****\n",
      "*****\n",
      "*****\n",
      "*****\n"
     ]
    }
   ],
   "source": [
    "# Example: Print a square of asterisks using nested while loops\n",
    "\n",
    "i = 1\n",
    "while i <= 5:\n",
    "    j = 1\n",
    "    while j <= 5:\n",
    "        print(\"*\", end=\"\")\n",
    "        j += 1\n",
    "    print(\"\")\n",
    "    i += 1"
   ]
  },
  {
   "cell_type": "code",
   "execution_count": 11,
   "id": "a798d491-a344-4f99-b798-fbfe85f7fb04",
   "metadata": {},
   "outputs": [
    {
     "name": "stdout",
     "output_type": "stream",
     "text": [
      "    *\n",
      "   ***\n",
      "  *****\n",
      " *******\n",
      "*********\n",
      " *******\n",
      "  *****\n",
      "   ***\n",
      "    *\n"
     ]
    }
   ],
   "source": [
    "# Example: Print a diamond of asterisks using nested while loops\n",
    "\n",
    "n = 5\n",
    "i = 1\n",
    "while i <= n:\n",
    "    j = 1\n",
    "    while j <= n - i:\n",
    "        print(\" \", end=\"\")\n",
    "        j += 1\n",
    "    k = 1\n",
    "    while k <= 2 * i - 1:\n",
    "        print(\"*\", end=\"\")\n",
    "        k += 1\n",
    "    print(\"\")\n",
    "    i += 1\n",
    "\n",
    "i = n - 1\n",
    "while i >= 1:\n",
    "    j = 1\n",
    "    while j <= n - i:\n",
    "        print(\" \", end=\"\")\n",
    "        j += 1\n",
    "    k = 1\n",
    "    while k <= 2 * i - 1:\n",
    "        print(\"*\", end=\"\")\n",
    "        k += 1\n",
    "    print(\"\")\n",
    "    i -= 1"
   ]
  },
  {
   "cell_type": "code",
   "execution_count": null,
   "id": "8aacf6c4-7ed0-4f00-87fe-e7eff277a3ee",
   "metadata": {},
   "outputs": [],
   "source": [
    "Ques.07 reverse a while loop to display number from 10 to 1"
   ]
  },
  {
   "cell_type": "code",
   "execution_count": 12,
   "id": "e17d8ed1-89a0-4dcc-b1be-436d6612479f",
   "metadata": {},
   "outputs": [
    {
     "name": "stdout",
     "output_type": "stream",
     "text": [
      "10\n",
      "9\n",
      "8\n",
      "7\n",
      "6\n",
      "5\n",
      "4\n",
      "3\n",
      "2\n",
      "1\n"
     ]
    }
   ],
   "source": [
    "# Example: Use a while loop to display numbers in reverse order\n",
    "\n",
    "n = 10\n",
    "while n >= 1:\n",
    "    print(n)\n",
    "    n -= 1"
   ]
  },
  {
   "cell_type": "code",
   "execution_count": null,
   "id": "5e6be578-4878-474d-90c5-56c882d16ccd",
   "metadata": {},
   "outputs": [],
   "source": [
    "ques. 08"
   ]
  }
 ],
 "metadata": {
  "kernelspec": {
   "display_name": "Python 3 (ipykernel)",
   "language": "python",
   "name": "python3"
  },
  "language_info": {
   "codemirror_mode": {
    "name": "ipython",
    "version": 3
   },
   "file_extension": ".py",
   "mimetype": "text/x-python",
   "name": "python",
   "nbconvert_exporter": "python",
   "pygments_lexer": "ipython3",
   "version": "3.10.8"
  }
 },
 "nbformat": 4,
 "nbformat_minor": 5
}
